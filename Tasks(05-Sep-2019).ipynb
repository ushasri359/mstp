{
 "cells": [
  {
   "cell_type": "markdown",
   "metadata": {},
   "source": [
    "#### Write the content from book.txt to notes.txt"
   ]
  },
  {
   "cell_type": "code",
   "execution_count": 7,
   "metadata": {},
   "outputs": [],
   "source": [
    "fh=open('book.txt','r')\n",
    "data=fh.read()\n",
    "fh1=open('notes.txt','w')\n",
    "fh1.write(data)\n",
    "fh1.close()\n",
    "fh.close()"
   ]
  },
  {
   "cell_type": "markdown",
   "metadata": {},
   "source": [
    "#### Find number of lines in book.txt file?"
   ]
  },
  {
   "cell_type": "code",
   "execution_count": 13,
   "metadata": {},
   "outputs": [
    {
     "name": "stdout",
     "output_type": "stream",
     "text": [
      "5\n"
     ]
    }
   ],
   "source": [
    "fh=open('book.txt','r')\n",
    "c=0\n",
    "for i in fh:\n",
    "    c=c+1\n",
    "print(c)\n",
    "fh.close()"
   ]
  },
  {
   "cell_type": "markdown",
   "metadata": {},
   "source": [
    "#### Print 3rd line in the file? "
   ]
  },
  {
   "cell_type": "code",
   "execution_count": 14,
   "metadata": {},
   "outputs": [
    {
     "name": "stdout",
     "output_type": "stream",
     "text": [
      "Line 3\n",
      "\n"
     ]
    }
   ],
   "source": [
    "fh=open('book.txt','r')\n",
    "c=0\n",
    "for i in fh:\n",
    "    c=c+1\n",
    "    if(c==3):\n",
    "        print(i)\n",
    "fh.close()"
   ]
  },
  {
   "cell_type": "markdown",
   "metadata": {},
   "source": [
    "#### Print last character in the 3rd line?"
   ]
  },
  {
   "cell_type": "code",
   "execution_count": 18,
   "metadata": {},
   "outputs": [
    {
     "name": "stdout",
     "output_type": "stream",
     "text": [
      "3\n"
     ]
    }
   ],
   "source": [
    "fh=open('book.txt','r')\n",
    "c=0\n",
    "for i in fh:\n",
    "    c=c+1\n",
    "    if(c==3):\n",
    "        print(i[-2])\n",
    "fh.close()    "
   ]
  },
  {
   "cell_type": "markdown",
   "metadata": {},
   "source": [
    "#### Create function to return the data in given line number?"
   ]
  },
  {
   "cell_type": "code",
   "execution_count": 19,
   "metadata": {},
   "outputs": [
    {
     "name": "stdout",
     "output_type": "stream",
     "text": [
      "2\n",
      "Line 2\n",
      "\n"
     ]
    }
   ],
   "source": [
    "def fun(n):\n",
    "    fh=open('book.txt','r')\n",
    "    c=0\n",
    "    for i in fh:\n",
    "        c=c+1\n",
    "        if(c==n):\n",
    "            print(i)\n",
    "fh.close()\n",
    "n=int(input())\n",
    "fun(n)"
   ]
  },
  {
   "cell_type": "markdown",
   "metadata": {},
   "source": [
    "#### Create function to find the number of characters in file?"
   ]
  },
  {
   "cell_type": "code",
   "execution_count": 22,
   "metadata": {},
   "outputs": [
    {
     "name": "stdout",
     "output_type": "stream",
     "text": [
      "book.txt\n",
      "34\n"
     ]
    }
   ],
   "source": [
    "def num(n):\n",
    "    fh=open(n,'r')\n",
    "    data=fh.read()\n",
    "    print(len(data))        \n",
    "fh.close()\n",
    "n=input()\n",
    "num(n)"
   ]
  },
  {
   "cell_type": "markdown",
   "metadata": {},
   "source": [
    "#### Create function to count the occurance of the given character? "
   ]
  },
  {
   "cell_type": "code",
   "execution_count": 17,
   "metadata": {},
   "outputs": [
    {
     "name": "stdout",
     "output_type": "stream",
     "text": [
      "book.txt\n",
      "i\n",
      "5\n"
     ]
    }
   ],
   "source": [
    "def fun(fname,n):\n",
    "   fh = open(fname,'r')\n",
    "   data=fh.read()\n",
    "   c=0\n",
    "   for i in data:\n",
    "       if(i==n):\n",
    "           c=c+1\n",
    "   print(c)\n",
    "   fh.close()\n",
    "fname=input()\n",
    "n=input()\n",
    "fun(fname,n)"
   ]
  },
  {
   "cell_type": "markdown",
   "metadata": {},
   "source": [
    "#### Create function to find the sum of digits in file?"
   ]
  },
  {
   "cell_type": "code",
   "execution_count": 18,
   "metadata": {},
   "outputs": [
    {
     "name": "stdout",
     "output_type": "stream",
     "text": [
      "book.txt\n",
      "15\n"
     ]
    }
   ],
   "source": [
    "def sum(n):\n",
    "    fh=open(n,'r')\n",
    "    data=fh.read()\n",
    "    s=0\n",
    "    for i in data:\n",
    "        if i.isdigit():\n",
    "            s=s+int(i)\n",
    "    print(s)\n",
    "n=input()\n",
    "sum(n)\n",
    "    "
   ]
  },
  {
   "cell_type": "markdown",
   "metadata": {},
   "source": [
    "#### Create function to replace all given old word with new word in file?"
   ]
  },
  {
   "cell_type": "code",
   "execution_count": 22,
   "metadata": {},
   "outputs": [],
   "source": [
    "def replace(fileName,oldWord,newWord):\n",
    "    fh=open(fileName,'r')\n",
    "    data=fh.read()\n",
    "    data=data.replace(oldWord,newWord)\n",
    "    fh.close()\n",
    "    fh=open(fileName,'w')\n",
    "    fh.write(data)\n",
    "    fh.close()\n",
    "replace('book.txt','Line','Row')\n",
    "            "
   ]
  },
  {
   "cell_type": "markdown",
   "metadata": {},
   "source": [
    "####  Find  number of words in a file?"
   ]
  },
  {
   "cell_type": "code",
   "execution_count": 43,
   "metadata": {},
   "outputs": [
    {
     "name": "stdout",
     "output_type": "stream",
     "text": [
      "101\n"
     ]
    }
   ],
   "source": [
    "f=open('book.txt','r')\n",
    "data=f.read()\n",
    "data=data.split('\\n')\n",
    "data=str(data).split(' ')\n",
    "print(len(data))\n",
    "f.close()"
   ]
  },
  {
   "cell_type": "markdown",
   "metadata": {},
   "source": [
    "#### Create a function to remove the given number in a line?"
   ]
  },
  {
   "cell_type": "code",
   "execution_count": 45,
   "metadata": {},
   "outputs": [],
   "source": [
    "def removeLine(fname,num):\n",
    "   f=open(fname,'r')\n",
    "   data=f.readlines()\n",
    "   data=data[num]\n",
    "   replace(fname,data,'')\n",
    "   return\n",
    "\n",
    "removeLine('book.txt',-1)\n",
    "    "
   ]
  },
  {
   "cell_type": "markdown",
   "metadata": {},
   "source": [
    "#### create a function to remove the given word in file?"
   ]
  },
  {
   "cell_type": "code",
   "execution_count": 31,
   "metadata": {},
   "outputs": [],
   "source": [
    "def replace(fileName,oldWord,newWord):\n",
    "    fh=open(fileName,'r')\n",
    "    data=fh.read()\n",
    "    data=data.replace(oldWord,newWord)\n",
    "    fh.close()\n",
    "    fh=open(fileName,'w')\n",
    "    fh.write(data)\n",
    "    fh.close()\n",
    "replace('book.txt','Row','')\n",
    "            "
   ]
  },
  {
   "cell_type": "markdown",
   "metadata": {},
   "source": [
    "#### Display the total marks of students?"
   ]
  },
  {
   "cell_type": "code",
   "execution_count": 3,
   "metadata": {},
   "outputs": [],
   "source": [
    "fh_i=open('book.txt','r')\n",
    "fh_o=open('report.txt','w')\n",
    "count=0\n",
    "for line in fh_i:\n",
    "    count+=1\n",
    "    if count==1:\n",
    "        fh_o.write(line.strip()+'\\ttotal\\n')\n",
    "    else:\n",
    "        marks_list=line.strip().split()[2:]\n",
    "        newMarks=[]\n",
    "        for each in marks_list:\n",
    "            newMarks.append(int(each))\n",
    "        total_marks=sum(newMarks)\n",
    "        fh_o.write(line.strip()+'\\t'+str(total_marks)+'\\n')\n",
    "fh_i.close()\n",
    "fh_o.close()\n",
    "    "
   ]
  },
  {
   "cell_type": "code",
   "execution_count": null,
   "metadata": {},
   "outputs": [],
   "source": []
  }
 ],
 "metadata": {
  "kernelspec": {
   "display_name": "Python 3",
   "language": "python",
   "name": "python3"
  },
  "language_info": {
   "codemirror_mode": {
    "name": "ipython",
    "version": 3
   },
   "file_extension": ".py",
   "mimetype": "text/x-python",
   "name": "python",
   "nbconvert_exporter": "python",
   "pygments_lexer": "ipython3",
   "version": "3.7.3"
  }
 },
 "nbformat": 4,
 "nbformat_minor": 2
}
