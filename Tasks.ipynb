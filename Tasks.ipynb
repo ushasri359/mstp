{
 "cells": [
  {
   "cell_type": "markdown",
   "metadata": {},
   "source": [
    "### Write a program to find the factorial of a given muber?"
   ]
  },
  {
   "cell_type": "code",
   "execution_count": 1,
   "metadata": {},
   "outputs": [
    {
     "name": "stdout",
     "output_type": "stream",
     "text": [
      "Enter a number:5\n",
      "120\n"
     ]
    }
   ],
   "source": [
    "fact=1\n",
    "a=int(input(\"Enter a number:\"))\n",
    "for i in range(1,a+1):\n",
    "    fact=fact*i\n",
    "    i+=1\n",
    "print(fact)"
   ]
  },
  {
   "cell_type": "markdown",
   "metadata": {},
   "source": [
    "### Write a program to print first 15 prime numbers?"
   ]
  },
  {
   "cell_type": "code",
   "execution_count": 9,
   "metadata": {},
   "outputs": [
    {
     "name": "stdout",
     "output_type": "stream",
     "text": [
      "Enter a number:50\n",
      "2\n",
      "3\n",
      "5\n",
      "7\n",
      "11\n",
      "13\n",
      "17\n",
      "19\n",
      "23\n",
      "29\n",
      "31\n",
      "37\n",
      "41\n",
      "43\n",
      "47\n"
     ]
    }
   ],
   "source": [
    "a=int(input(\"Enter a number:\"))\n",
    "for i in range(1,a+1):\n",
    "    count=0\n",
    "    for j in range(1,i+1):\n",
    "        if(i%j==0):\n",
    "            count=count+1\n",
    "    if(count==2):\n",
    "        print(i)\n",
    "    \n"
   ]
  },
  {
   "cell_type": "markdown",
   "metadata": {},
   "source": [
    "#### case-1:inputs---->(10,10,10) o/p:10\n",
    "#### case-2:inputs---->(10,20,30) o/p:60\n",
    "#### case-3:inputs---->(10,10,20) o/p:20 "
   ]
  },
  {
   "cell_type": "code",
   "execution_count": 2,
   "metadata": {},
   "outputs": [
    {
     "name": "stdout",
     "output_type": "stream",
     "text": [
      "Enter the a number:10\n",
      "Enter the b number:10\n",
      "Enter the c number:10\n",
      "10\n"
     ]
    }
   ],
   "source": [
    "a=int(input(\"Enter the a number:\"))\n",
    "b=int(input(\"Enter the b number:\"))\n",
    "c=int(input(\"Enter the c number:\"))\n",
    "if(a==b==c):\n",
    "    print(a or b or c)\n",
    "elif(a!=b!=c and c!=a!=b):\n",
    "    print(a+b+c)\n",
    "elif(a==b!=c):\n",
    "    print(c)\n",
    "elif(a!=b==c):\n",
    "    print(a)\n",
    "elif(a==c!=b):\n",
    "    print(b)\n",
    "    "
   ]
  },
  {
   "cell_type": "markdown",
   "metadata": {},
   "source": [
    "##### Write a program to define the grade of a student,based on their percentages?\n",
    "##### 76 above----->Distinction and first class\n",
    "##### 51-75 above----->Second class\n",
    "##### 35-50----->Pass\n",
    "##### below 35----->Fail"
   ]
  },
  {
   "cell_type": "code",
   "execution_count": 4,
   "metadata": {},
   "outputs": [
    {
     "name": "stdout",
     "output_type": "stream",
     "text": [
      "Enter Percentage:76\n",
      "Distinction and First class\n"
     ]
    }
   ],
   "source": [
    "p=int(input(\"Enter Percentage:\"))\n",
    "if p>=76:\n",
    "    print(\"Distinction and First class\")\n",
    "elif p>=51 and p<=75:\n",
    "    print(\"Second class\")\n",
    "elif p>=35 and p<=50:\n",
    "    print(\"Pass\")\n",
    "else:\n",
    "    print(\"Fail\")\n"
   ]
  },
  {
   "cell_type": "markdown",
   "metadata": {},
   "source": [
    "### Write a program to find the greatest of 200,536,145,221?"
   ]
  },
  {
   "cell_type": "code",
   "execution_count": 10,
   "metadata": {},
   "outputs": [
    {
     "name": "stdout",
     "output_type": "stream",
     "text": [
      "536  is greater\n"
     ]
    }
   ],
   "source": [
    "a,b,c,d=200,536,145,221\n",
    "if a>b and a>c and a>d:\n",
    "    print(a,\" is greater\")\n",
    "elif b>a and b>c and b>d:\n",
    "    print(b,\" is greater\")\n",
    "elif c>a and c>b and c>d:\n",
    "    print(c,\" is greater\")\n",
    "else:\n",
    "    print(d,\" is greater\")"
   ]
  },
  {
   "cell_type": "markdown",
   "metadata": {},
   "source": [
    "### Write a code to print leap year or not?"
   ]
  },
  {
   "cell_type": "code",
   "execution_count": 11,
   "metadata": {},
   "outputs": [
    {
     "name": "stdout",
     "output_type": "stream",
     "text": [
      "Enter a year:2014\n",
      "Not a  leap Year\n"
     ]
    }
   ],
   "source": [
    "a=int(input(\"Enter a year:\"))\n",
    "if (a%4==0 and a%100!=0) or (a%400==0):\n",
    "    print(\"Leap Year\")\n",
    "else:\n",
    "    print(\"Not a  leap Year\")"
   ]
  },
  {
   "cell_type": "markdown",
   "metadata": {},
   "source": [
    "### Write a code to find whether the given number is factor of 1000 or not?"
   ]
  },
  {
   "cell_type": "code",
   "execution_count": 13,
   "metadata": {},
   "outputs": [
    {
     "name": "stdout",
     "output_type": "stream",
     "text": [
      "Enter a number:100\n",
      "100 is a factor of 1000\n"
     ]
    }
   ],
   "source": [
    "num=int(input(\"Enter a number:\"))\n",
    "if 1000%num==0:\n",
    "    print(num,\"is a factor of 1000\")\n",
    "else:\n",
    "    print(num,\"is not a factor of 1000\")"
   ]
  },
  {
   "cell_type": "markdown",
   "metadata": {},
   "source": [
    "### Write a program to find the length of a number?"
   ]
  },
  {
   "cell_type": "code",
   "execution_count": 14,
   "metadata": {},
   "outputs": [
    {
     "name": "stdout",
     "output_type": "stream",
     "text": [
      "4\n"
     ]
    }
   ],
   "source": [
    "a=1234\n",
    "b=str(a)\n",
    "print(len(b))"
   ]
  },
  {
   "cell_type": "markdown",
   "metadata": {},
   "source": [
    "### Write a program to find the given number is exist in the given range or not?"
   ]
  },
  {
   "cell_type": "code",
   "execution_count": 18,
   "metadata": {},
   "outputs": [
    {
     "name": "stdout",
     "output_type": "stream",
     "text": [
      "Enter the lower limit:1\n",
      "Enter the upper limit:10\n",
      "Enter a number:15\n",
      "Not Exists\n"
     ]
    }
   ],
   "source": [
    "a=int(input(\"Enter the lower limit:\"))\n",
    "b=int(input(\"Enter the upper limit:\"))\n",
    "num=int(input(\"Enter a number:\"))\n",
    "if(a<num<b):\n",
    "    print('Exists')\n",
    "else:\n",
    "    print('Not Exists')"
   ]
  },
  {
   "cell_type": "markdown",
   "metadata": {},
   "source": [
    "### Calculate the square root of a given number?"
   ]
  },
  {
   "cell_type": "code",
   "execution_count": 32,
   "metadata": {},
   "outputs": [
    {
     "name": "stdout",
     "output_type": "stream",
     "text": [
      "Enter a number:25\n",
      "5\n"
     ]
    }
   ],
   "source": [
    "n=int(input(\"Enter a number:\"))\n",
    "s=(n**(1/2))\n",
    "print(int(s))"
   ]
  },
  {
   "cell_type": "markdown",
   "metadata": {},
   "source": [
    "### print count of numbers taken by the user in a single line?"
   ]
  },
  {
   "cell_type": "code",
   "execution_count": 35,
   "metadata": {},
   "outputs": [
    {
     "name": "stdout",
     "output_type": "stream",
     "text": [
      "Enter a number:1@2@3@4\n",
      "2.5\n"
     ]
    }
   ],
   "source": [
    "a=input(\"Enter a number:\")\n",
    "a=a.split(\"@\")\n",
    "sum=0\n",
    "for i in a:\n",
    "    sum=sum+int(i)\n",
    "    avg=sum/int(i)\n",
    "print(avg)"
   ]
  },
  {
   "cell_type": "markdown",
   "metadata": {},
   "source": [
    "## 27/08/2019"
   ]
  },
  {
   "cell_type": "markdown",
   "metadata": {},
   "source": [
    "### palindrome"
   ]
  },
  {
   "cell_type": "code",
   "execution_count": 1,
   "metadata": {},
   "outputs": [
    {
     "name": "stdout",
     "output_type": "stream",
     "text": [
      "enter a string:wow\n",
      "Yes\n"
     ]
    }
   ],
   "source": [
    "a=input(\"enter a string:\")\n",
    "b=a[::-1]\n",
    "flag=0\n",
    "if b not in a:\n",
    "    flag=1\n",
    "if flag==1:\n",
    "    print(\"No\")\n",
    "else:\n",
    "    print(\"Yes\")"
   ]
  },
  {
   "cell_type": "markdown",
   "metadata": {},
   "source": [
    "#### Count Divisors:You have been 3 integers l,rand k.find how many numbers between l and r(both inclusive) are divisible by k(loops)?"
   ]
  },
  {
   "cell_type": "code",
   "execution_count": 8,
   "metadata": {},
   "outputs": [
    {
     "name": "stdout",
     "output_type": "stream",
     "text": [
      "Enter the l value:5\n",
      "Enter the r value:15\n",
      "Enter the k value:5\n",
      "Count is: 3\n"
     ]
    }
   ],
   "source": [
    "l=int(input(\"Enter the l value:\"))\n",
    "r=int(input(\"Enter the r value:\"))\n",
    "k=int(input(\"Enter the k value:\"))\n",
    "c=0\n",
    "for i in range(l,r+1):\n",
    "    if i%k==0:\n",
    "        c=c+1\n",
    "print(\"Count is:\",c)\n",
    "\n"
   ]
  },
  {
   "cell_type": "markdown",
   "metadata": {},
   "source": [
    "### ISBN vallid if :\n",
    "#### 1*digit1+2*digit2+3*digit3+.....+10*digit10 is divisible by 11\n"
   ]
  },
  {
   "cell_type": "code",
   "execution_count": 12,
   "metadata": {},
   "outputs": [
    {
     "name": "stdout",
     "output_type": "stream",
     "text": [
      "Enter a number:1401601499\n",
      "Valid\n"
     ]
    }
   ],
   "source": [
    "a=input(\"Enter a number:\")\n",
    "s=0\n",
    "c=1\n",
    "for i in a:\n",
    "    s+=int(i)*c\n",
    "    c+=1\n",
    "if s%11==0:\n",
    "    print(\"Valid\")\n",
    "else:\n",
    "    print(\"Not Valid\")"
   ]
  },
  {
   "cell_type": "markdown",
   "metadata": {},
   "source": [
    "### change the upppercase and lowercase letters in a string"
   ]
  },
  {
   "cell_type": "code",
   "execution_count": 13,
   "metadata": {},
   "outputs": [
    {
     "name": "stdout",
     "output_type": "stream",
     "text": [
      "Enter the string:Python Programming\n",
      "pYTHON pROGRAMMING\n"
     ]
    }
   ],
   "source": [
    "u=input(\"Enter the string:\")\n",
    "u=u.swapcase()\n",
    "print(u)"
   ]
  },
  {
   "cell_type": "markdown",
   "metadata": {},
   "source": [
    "#### Given two strings of equal length,you have to tell whether both the strings are identical or not?"
   ]
  },
  {
   "cell_type": "code",
   "execution_count": 18,
   "metadata": {},
   "outputs": [
    {
     "name": "stdout",
     "output_type": "stream",
     "text": [
      "Enter the a string:abc\n",
      "Enter the b string:cba\n",
      "same\n"
     ]
    }
   ],
   "source": [
    "a=input(\"Enter the a string:\")\n",
    "b=input(\"Enter the b string:\")\n",
    "flag=0\n",
    "for i in a:\n",
    "    if(i not in b):\n",
    "        flag=1\n",
    "if(flag==1):\n",
    "    print('not same')\n",
    "else:\n",
    "    print('same')\n"
   ]
  },
  {
   "cell_type": "markdown",
   "metadata": {},
   "source": [
    "######  a=1 b=2 c=3 .........z=26    find the sum of the characters in a givn string\n",
    "#### eg: aba=1+2+1=4\n"
   ]
  },
  {
   "cell_type": "code",
   "execution_count": 19,
   "metadata": {},
   "outputs": [
    {
     "name": "stdout",
     "output_type": "stream",
     "text": [
      "Enter the string:abc\n",
      "6\n"
     ]
    }
   ],
   "source": [
    "u=input(\"Enter the string:\")\n",
    "s=0\n",
    "for i in u:\n",
    "    s+=ord(i)-ord('a')+1\n",
    "print(s)\n"
   ]
  },
  {
   "cell_type": "markdown",
   "metadata": {},
   "source": [
    "#### E-maze in:x and y axises need to take i/p as LLRDDR(strings)\n",
    "##### L-left  R-right  U-up  D-down"
   ]
  },
  {
   "cell_type": "code",
   "execution_count": 22,
   "metadata": {},
   "outputs": [
    {
     "name": "stdout",
     "output_type": "stream",
     "text": [
      "Enter the string:LLRDDR\n",
      "x =  -1 y =  0\n",
      "x =  -2 y =  0\n",
      "x =  -1 y =  0\n",
      "x =  -1 y =  -1\n",
      "x =  -1 y =  -2\n",
      "x =  0 y =  -2\n"
     ]
    }
   ],
   "source": [
    "a=input(\"Enter the string:\")\n",
    "x=0\n",
    "y=0\n",
    "for i in a:\n",
    "    if(i=='R'):\n",
    "        x+=1\n",
    "    if(i=='L'):\n",
    "        x-=1\n",
    "    if(i=='U'):\n",
    "        y+=1\n",
    "    if(i=='D'):\n",
    "        y-=1\n",
    "    print('x = ',x,'y = ',y)\n"
   ]
  },
  {
   "cell_type": "markdown",
   "metadata": {},
   "source": [
    "### Strings\n"
   ]
  },
  {
   "cell_type": "code",
   "execution_count": 4,
   "metadata": {},
   "outputs": [
    {
     "data": {
      "text/plain": [
       "28"
      ]
     },
     "execution_count": 4,
     "metadata": {},
     "output_type": "execute_result"
    }
   ],
   "source": [
    "u=\"Problem Solving Using Python\"\n",
    "len(u)                    ###length ofa string"
   ]
  },
  {
   "cell_type": "code",
   "execution_count": 6,
   "metadata": {},
   "outputs": [
    {
     "name": "stdout",
     "output_type": "stream",
     "text": [
      "problem solving using python\n"
     ]
    }
   ],
   "source": [
    "u=\"Problem Solving Using Python\"\n",
    "u=u.lower()             ####String to lowercase\n",
    "print(u)"
   ]
  },
  {
   "cell_type": "code",
   "execution_count": 11,
   "metadata": {},
   "outputs": [
    {
     "data": {
      "text/plain": [
       "'nohtyP gnisU gnivloS melborP'"
      ]
     },
     "execution_count": 11,
     "metadata": {},
     "output_type": "execute_result"
    }
   ],
   "source": [
    "u=\"Problem Solving Using Python\"\n",
    "u[-1::-1]                      ###Reverse of a string"
   ]
  },
  {
   "cell_type": "code",
   "execution_count": 13,
   "metadata": {},
   "outputs": [
    {
     "data": {
      "text/plain": [
       "1"
      ]
     },
     "execution_count": 13,
     "metadata": {},
     "output_type": "execute_result"
    }
   ],
   "source": [
    "u=\"Problem Solving Using Python\"\n",
    "u.count('s')                     ###Count of s"
   ]
  },
  {
   "cell_type": "code",
   "execution_count": 14,
   "metadata": {},
   "outputs": [
    {
     "data": {
      "text/plain": [
       "2"
      ]
     },
     "execution_count": 14,
     "metadata": {},
     "output_type": "execute_result"
    }
   ],
   "source": [
    "u=\"python programming by python platform\"\n",
    "u.count('python')               ###count of python \n"
   ]
  },
  {
   "cell_type": "markdown",
   "metadata": {},
   "source": [
    "## 28/08/2019"
   ]
  },
  {
   "cell_type": "markdown",
   "metadata": {},
   "source": [
    "### Solve the given arithmetic expression in string form\n",
    "#### eg: I/p:-\"2+3\" O/p:-5"
   ]
  },
  {
   "cell_type": "code",
   "execution_count": 3,
   "metadata": {},
   "outputs": [
    {
     "name": "stdout",
     "output_type": "stream",
     "text": [
      "Enter the string:2 + 3\n",
      "5\n"
     ]
    }
   ],
   "source": [
    "a=input(\"Enter the string:\")\n",
    "a=a.split()\n",
    "if a[1]=='+':\n",
    "    output=int(a[0])+int(a[2])\n",
    "if a[1]=='-':\n",
    "    output=int(a[0])-int(a[2])\n",
    "if a[1]=='*':\n",
    "    output=int(a[0])*int(a[2])\n",
    "if a[1]=='/':\n",
    "    output=int(a[0])/int(a[2])\n",
    "if a[1]=='%':\n",
    "    output=int(a[0])%int(a[2])\n",
    "print(output)\n"
   ]
  },
  {
   "cell_type": "markdown",
   "metadata": {},
   "source": [
    "### write the program to print the input numbers as output.stop the printing input after reading the input as 42."
   ]
  },
  {
   "cell_type": "code",
   "execution_count": 6,
   "metadata": {},
   "outputs": [
    {
     "name": "stdout",
     "output_type": "stream",
     "text": [
      "\n",
      "Enter the number:1\n",
      "1\n",
      "Enter the number:2\n",
      "2\n",
      "Enter the number:41\n",
      "41\n",
      "Enter the number:42\n"
     ]
    }
   ],
   "source": [
    "a=''\n",
    "while a!=42:\n",
    "    print(a)\n",
    "    a=int(input(\"Enter the number:\"))\n",
    "    "
   ]
  },
  {
   "cell_type": "markdown",
   "metadata": {},
   "source": [
    "### Profile Photo Task:\n",
    "#### if W&H<L -------- \"UPLOAD ANOTHER\"\n",
    "#### if W&H>L -------- \"ACCEPTED\"\n",
    "#### if W&H are different then \"CROP IT\""
   ]
  },
  {
   "cell_type": "code",
   "execution_count": 8,
   "metadata": {},
   "outputs": [
    {
     "name": "stdout",
     "output_type": "stream",
     "text": [
      "Enter number of photos:3\n",
      "Enter the values of W and H:150 160\n",
      "UPLOAD ANOTHER\n",
      "Enter the values of W and H:190 190\n",
      "ACCEPTED\n",
      "Enter the values of W and H:190 200\n",
      "CROP IT\n"
     ]
    }
   ],
   "source": [
    "L=180\n",
    "N=int(input(\"Enter number of photos:\"))\n",
    "for i in range(N):\n",
    "    a=input(\"Enter the values of W and H:\")\n",
    "    W,H=a.split()\n",
    "    if int(W)<L or L>int(H):\n",
    "        print(\"UPLOAD ANOTHER\")\n",
    "    elif int(W)==int(H)>L:\n",
    "        print(\"ACCEPTED\")\n",
    "    else:\n",
    "        print(\"CROP IT\")\n"
   ]
  },
  {
   "cell_type": "markdown",
   "metadata": {},
   "source": [
    "## 30/08/2019"
   ]
  },
  {
   "cell_type": "markdown",
   "metadata": {},
   "source": [
    "### Create a function to find the factorial of a number?"
   ]
  },
  {
   "cell_type": "code",
   "execution_count": 2,
   "metadata": {},
   "outputs": [
    {
     "name": "stdout",
     "output_type": "stream",
     "text": [
      "120\n"
     ]
    }
   ],
   "source": [
    "def fact(n):\n",
    "    if n==0:\n",
    "        return 1\n",
    "    else:\n",
    "        return n*fact(n-1)\n",
    "print(fact(5))"
   ]
  },
  {
   "cell_type": "code",
   "execution_count": 32,
   "metadata": {},
   "outputs": [
    {
     "data": {
      "text/plain": [
       "120"
      ]
     },
     "execution_count": 32,
     "metadata": {},
     "output_type": "execute_result"
    }
   ],
   "source": [
    "def fact(n):\n",
    "    f=1\n",
    "    for i in range(1,n+1):\n",
    "        f=f*i\n",
    "    return f\n",
    "fact(5)"
   ]
  },
  {
   "cell_type": "code",
   "execution_count": null,
   "metadata": {},
   "outputs": [],
   "source": []
  },
  {
   "cell_type": "markdown",
   "metadata": {},
   "source": [
    "### Function to print all numbers divisible by 6 and not a factor of 100 in a given range(lb,ub)inclusive."
   ]
  },
  {
   "cell_type": "code",
   "execution_count": 13,
   "metadata": {},
   "outputs": [
    {
     "name": "stdout",
     "output_type": "stream",
     "text": [
      "30\n",
      "100\n",
      "30\n",
      "36\n",
      "42\n",
      "48\n",
      "54\n",
      "60\n",
      "66\n",
      "72\n",
      "78\n",
      "84\n",
      "90\n",
      "96\n"
     ]
    }
   ],
   "source": [
    "def fun():\n",
    "    a=int(input())\n",
    "    n=int(input())\n",
    "    for i in range(a,n+1):\n",
    "        if i%6==0 and 100%i!=0:\n",
    "            print(i)\n",
    "fun()"
   ]
  },
  {
   "cell_type": "markdown",
   "metadata": {},
   "source": [
    "### Function to find the average of cubes of all the even numbers in a given range(lb,ub)inclusive?"
   ]
  },
  {
   "cell_type": "code",
   "execution_count": 19,
   "metadata": {},
   "outputs": [
    {
     "name": "stdout",
     "output_type": "stream",
     "text": [
      "36.0\n"
     ]
    }
   ],
   "source": [
    "def avg(a,n):\n",
    "    sum=0\n",
    "    c=0\n",
    "    for i in range(a,n+1):\n",
    "        if i%2==0:\n",
    "            sum+=(i**3)\n",
    "            c+=1\n",
    "    print(sum/c)\n",
    "avg(1,5)"
   ]
  },
  {
   "cell_type": "markdown",
   "metadata": {},
   "source": [
    "### Function to generate the list of factors for a given number?"
   ]
  },
  {
   "cell_type": "code",
   "execution_count": 22,
   "metadata": {},
   "outputs": [
    {
     "name": "stdout",
     "output_type": "stream",
     "text": [
      "1\n",
      "2\n",
      "3\n",
      "6\n"
     ]
    }
   ],
   "source": [
    "def fun(n):\n",
    "    for i in range(1,n+1):\n",
    "        if n%i==0:\n",
    "            print(i)\n",
    "fun(6)"
   ]
  },
  {
   "cell_type": "markdown",
   "metadata": {},
   "source": [
    "### Function to check if a given number is Prime or not?"
   ]
  },
  {
   "cell_type": "code",
   "execution_count": 25,
   "metadata": {},
   "outputs": [
    {
     "name": "stdout",
     "output_type": "stream",
     "text": [
      "15  is not a prime\n"
     ]
    }
   ],
   "source": [
    "def prime(i):\n",
    "    flag=0\n",
    "    for j in range(2,int(i**(1/2))+1):\n",
    "        if(i%j==0):\n",
    "            flag+=1\n",
    "    if(flag==0):\n",
    "        print(i,\"is a prime\")  \n",
    "    else:\n",
    "        print(i,\" is not a prime\")\n",
    "n=int(input(\"enter a number\"))\n",
    "prime(n)\n",
    "            "
   ]
  },
  {
   "cell_type": "markdown",
   "metadata": {},
   "source": [
    "### Function to calculate the average of first N prime numbers?"
   ]
  },
  {
   "cell_type": "code",
   "execution_count": 28,
   "metadata": {},
   "outputs": [
    {
     "name": "stdout",
     "output_type": "stream",
     "text": [
      "enter a number:15\n",
      "21.866666666666667\n"
     ]
    }
   ],
   "source": [
    "def avgfirstnprime(n):\n",
    "    i=1\n",
    "    x=2\n",
    "    s=0\n",
    "    flag=0\n",
    "    while i<=n:\n",
    "        for j in range(2,x):\n",
    "            if(x%j==0):\n",
    "                flag+=1\n",
    "        if(flag==0):\n",
    "            i+=1\n",
    "            s+=x\n",
    "            x+=1\n",
    "        else:\n",
    "            x=x+1\n",
    "            flag=0\n",
    "    return s/n\n",
    "n=int(input('enter a number:'))\n",
    "print(avgfirstnprime(n))"
   ]
  },
  {
   "cell_type": "markdown",
   "metadata": {},
   "source": [
    "### Function to calculate the perfect number in the given range?"
   ]
  },
  {
   "cell_type": "code",
   "execution_count": 33,
   "metadata": {},
   "outputs": [
    {
     "name": "stdout",
     "output_type": "stream",
     "text": [
      "6\n",
      "28\n"
     ]
    }
   ],
   "source": [
    "def perfect(l,u):\n",
    "    s=0\n",
    "    for i in range(l,u+1):\n",
    "        for j in range(1,i):\n",
    "            if(i%j==0):\n",
    "                s+=j\n",
    "        if(s==i):\n",
    "            print(i)\n",
    "        s=0\n",
    "perfect(1,30)\n"
   ]
  },
  {
   "cell_type": "code",
   "execution_count": null,
   "metadata": {},
   "outputs": [],
   "source": []
  }
 ],
 "metadata": {
  "kernelspec": {
   "display_name": "Python 3",
   "language": "python",
   "name": "python3"
  },
  "language_info": {
   "codemirror_mode": {
    "name": "ipython",
    "version": 3
   },
   "file_extension": ".py",
   "mimetype": "text/x-python",
   "name": "python",
   "nbconvert_exporter": "python",
   "pygments_lexer": "ipython3",
   "version": "3.7.3"
  }
 },
 "nbformat": 4,
 "nbformat_minor": 2
}
